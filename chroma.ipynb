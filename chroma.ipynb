{
 "cells": [
  {
   "cell_type": "code",
   "execution_count": 1,
   "metadata": {},
   "outputs": [],
   "source": [
    "from langchain.schema import Document\n",
    "from langchain.vectorstores import Chroma\n",
    "from langchain.retrievers import ParentDocumentRetriever"
   ]
  },
  {
   "cell_type": "code",
   "execution_count": 2,
   "metadata": {},
   "outputs": [],
   "source": [
    "## Text Splitting & Docloader\n",
    "from langchain.text_splitter import RecursiveCharacterTextSplitter\n",
    "from langchain.storage import InMemoryStore\n"
   ]
  },
  {
   "cell_type": "markdown",
   "metadata": {},
   "source": [
    "## BGE Embeddings"
   ]
  },
  {
   "cell_type": "code",
   "execution_count": 5,
   "metadata": {},
   "outputs": [
    {
     "name": "stderr",
     "output_type": "stream",
     "text": [
      "c:\\Users\\shadabamd\\AppData\\Local\\anaconda3\\envs\\langchain\\lib\\site-packages\\tqdm\\auto.py:21: TqdmWarning: IProgress not found. Please update jupyter and ipywidgets. See https://ipywidgets.readthedocs.io/en/stable/user_install.html\n",
      "  from .autonotebook import tqdm as notebook_tqdm\n",
      ".gitattributes: 100%|██████████| 1.52k/1.52k [00:00<?, ?B/s]\n",
      "1_Pooling/config.json: 100%|██████████| 190/190 [00:00<?, ?B/s] \n",
      "README.md: 100%|██████████| 90.3k/90.3k [00:00<00:00, 302kB/s]\n",
      "config.json: 100%|██████████| 743/743 [00:00<00:00, 92.3kB/s]\n",
      "config_sentence_transformers.json: 100%|██████████| 124/124 [00:00<00:00, 20.2kB/s]\n",
      "model.safetensors: 100%|██████████| 133M/133M [00:10<00:00, 12.9MB/s] \n",
      "pytorch_model.bin: 100%|██████████| 134M/134M [00:10<00:00, 12.6MB/s] \n",
      "sentence_bert_config.json: 100%|██████████| 52.0/52.0 [00:00<00:00, 5.83kB/s]\n",
      "special_tokens_map.json: 100%|██████████| 125/125 [00:00<00:00, 29.9kB/s]\n",
      "tokenizer.json: 100%|██████████| 711k/711k [00:00<00:00, 1.49MB/s]\n",
      "tokenizer_config.json: 100%|██████████| 366/366 [00:00<?, ?B/s] \n",
      "vocab.txt: 100%|██████████| 232k/232k [00:00<00:00, 1.42MB/s]\n",
      "modules.json: 100%|██████████| 349/349 [00:00<00:00, 31.3kB/s]\n"
     ]
    }
   ],
   "source": [
    "from langchain.embeddings import HuggingFaceBgeEmbeddings\n",
    "\n",
    "model_name = \"BAAI/bge-small-en-v1.5\"\n",
    "encode_kwargs = {'normalize_embeddings': True} # set True to compute cosine similarity\n",
    "device = \"cpu\"\n",
    "bge_embeddings = HuggingFaceBgeEmbeddings(\n",
    "    model_name=model_name,\n",
    "    model_kwargs={'device': device},\n",
    "    encode_kwargs=encode_kwargs\n",
    ")"
   ]
  },
  {
   "cell_type": "code",
   "execution_count": 9,
   "metadata": {},
   "outputs": [
    {
     "name": "stdout",
     "output_type": "stream",
     "text": [
      "384\n"
     ]
    }
   ],
   "source": [
    "print(len(bge_embeddings.embed_query(\"hello world, iron man\")))"
   ]
  },
  {
   "cell_type": "markdown",
   "metadata": {},
   "source": [
    "### Data prep"
   ]
  },
  {
   "cell_type": "code",
   "execution_count": 18,
   "metadata": {},
   "outputs": [
    {
     "name": "stderr",
     "output_type": "stream",
     "text": [
      "100%|██████████| 20/20 [00:00<00:00, 629.11it/s]\n"
     ]
    }
   ],
   "source": [
    "from langchain.document_loaders import DirectoryLoader\n",
    "from langchain.document_loaders import TextLoader\n",
    "loader = DirectoryLoader('doc_txt/', glob=\"**/*.text\", \n",
    "                         loader_cls=TextLoader, \n",
    "                         use_multithreading=True,\n",
    "                         show_progress=True)\n",
    "docs = loader.load()"
   ]
  },
  {
   "cell_type": "code",
   "execution_count": 27,
   "metadata": {},
   "outputs": [
    {
     "name": "stdout",
     "output_type": "stream",
     "text": [
      "page_content='Detailed Description of the Invention\\n[0001]\\nBACKGROUND OF THE INVENTION 1. Field of the Invention The present invention relates to a data processing device such as a microprocessor or a microcomputer, and more particularly to a technique effective when applied to a data processing device such as superscalar for parallel processing.\\n[0002]\\n2. Description of the Related Art A microprocessor (CPU (Central P\\nrocessing unit), microcomputer, etc. ) Sequentially fetches a sequence of instructions,\\nDecrypt and execute. The instructions executed by the microprocessor are now of fixed length with the aim of simplifying the decoding circuit. A microprocessor that executes fixed-length instructions in a pipeline (Pipelining)\\nIt is called an ISC (Red used Instruction Set Computer) type processor.\\nFIG. 1 shows a pipelined implementation method of a microprocessor. Here, for simplification, the normally existing memory access stage (M\\nEM) is omitted. Individual stages (101, 10)\\n3, 105, 107) is a unit of time (clock)\\nThe individual instruction processing is completed by sequentially stacking the processing from the first stage to the last stage through the latch group (102, 104, 106). The first stage 101 fetches an instruction (IF). Second\\nThe stage 103 interprets an instruction and reads a register (ID). The third stage 105 executes the operation designated by the instruction function (EX). The fourth stage 107 writes the calculation result to the register arranged in the second stage 103 via the signal line 108 (WB).\\nFIG. 2 shows a conceptual diagram when processing four instructions in a pipeline. If a subsequent instruction uses the contents of the register of the preceding instruction, there is room in the pipeline for the subsequent instruction (called pipeline stall due to data hazard). This state is shown in FIG. The two arrows pointing to the lower left in (a) of FIG. 2 indicate the register read of the subsequent instruction after the register write of the preceding instruction.\\nTherefore, as a means for solving this problem, when the subsequent instruction uses the result of the previous operation, that value is also sent to the operator in the third stage 105 via the signal line 108. The control line for the above is the signal line 109,\\n110. This adjustment is\\nThis is known as g), which allows execution every clock. It should be noted that 2 facing downward left in FIG.\\nThe two arrows indicate forwarding. Therefore, the number of clocks required for individual instruction processing is four, for example.\\nHowever, since each stage processes a new instruction every clock, the instruction processing becomes one instruction per clock. Therefore, since one instruction can be executed in one clock, the smaller the number of execution instructions for performing a certain process (program), the shorter the execution time.\\nRegarding pipeline and forwarding, 1994 Morgan Kaufman Publishers, I\\nHennessy et al., `` Computer Organization a\\nnd Design ”Chapter 6 Enhancing Performance with Pipeli\\nning (pages 362 to 450).\\nNext, as an example of a method for improving the processing speed of a microprocessor, a superscalar method (Superscalar method)\\nar). In the superscalar system, the number of arithmetic units that can be executed at the same time is plural, for example, two, and accordingly, two instruction fetches and two instruction decodes can be performed at one time. In this case, as shown in FIG. 3A without data dependence, ideally, two instructions can be executed every clock, so that the execution time becomes half as compared with the normal pipeline method. . For the superscalar method, see Nikkei Electronics, November 2, 1989.\\n7th issue (No.487), pages 191 to 200, \"Next Generation RI\\nSC, aiming for 100 MIPS in CMOS by introducing parallel processing ”.\\nR adopting the conventional superscalar system\\nThe instruction length of an ISC type microprocessor is fixed at 4 bytes, and the number of operands of arithmetic instructions such as arithmetic operations is generally three. This example is disclosed in Japanese Patent Laid-Open No. 2-1\\nNo. 30634. On the other hand, there is a RISC-type microprocessor with a 2-byte fixed length instruction in order to improve code efficiency (reduce the amount of memory used for storing instructions). However, the RI of the 2-byte fixed length instruction\\nThe SC type microprocessor does not employ the superscalar system. This example is described in JP-A-5-197546.\\n[0009]\\nIn order to clarify the problems caused by the superscalar method, description will be made with reference to FIG. The operation of the instructions shown in FIG. 3 is shown below.\\n(1) mov R3, R2 \"copy contents of register R3 to register R2\" (2) mov # 32, R5 \"copy data * 32 * to register R5\" (3) add R4, R2 \"register R4 Add the contents of R2 and the contents of R2 and store the result in R2. ”(4) and R3, R5“ AND the contents of registers R3 and R5 and store the result in R5. ”Instruction (1) above The instruction (2) and the instruction (3) and the instruction (4) have no data dependency (data flow). However, the instruction (1) and the instruction (3), and the instruction (2) and the instruction (4) have data dependency (data flow). That is, instruction (1) and instruction (3)\\nBoth use register R2. Further, the register R5 is used by both the instruction (2) and the instruction (4). Therefore, the instruction (3) must be executed after the execution of the instruction (1). Also, the instruction (4) must be executed after the execution of the instruction (2).\\nThat is, when there is no data dependency between the instructions to be executed at the same time, there is no space in the pipeline as shown in FIG. A processing speed twice as fast as when executing only instructions is obtained. However, if there is a data dependency between the instructions that are executed at the same time, the pipeline will be disturbed as shown in FIG.\\nThe processing speed will be the same as when executing only instructions.\\nTherefore, as shown in FIG. 3C, when there is a data dependency between the instructions executed simultaneously,\\nA method is conceivable in which the subsequent instruction is sent to the next pipeline and the unprocessed instruction nop is executed at the same time as the preceding instruction in place of the subsequent instruction to avoid the disturbance of the pipeline. However, the number of useless instructions increases, the total number of execution instructions increases, and the execution time increases.\\nNext, in order to clarify the problems caused by the instruction format and instruction system, description will be given below with reference to FIGS. 4 and 5.\\nFIG. 4 shows an example of an instruction format (instruction format) and an instruction repertoire in the case of a 4-byte / 3-operand instruction (4-byte fixed length instruction) system. In this figure, the OP field 401 specifies the instruction function. The S1 field 403 is a register number specifying the first input (first operand), the S2 field 404 is a register number specifying the second input (second operand), and the D field 402 is a register number specifying the output (third operand). ) Is placed. That is, this instruction format can specify three operands. Command functions include copying (data transfer), addition, subtraction, and the like. In addition, 4\\nCompound instructions such as a 1-bit left shift addition instruction asl1add and a 0 extension addition instruction zextadd are also provided due to the margin of the instruction length of the byte instruction system. The asl1add instruction shifts the bit pattern of the first operand one bit to the left and then performs the normal addition, and the zextadd instruction zeros the left half of the bit pattern of the first operand and then performs the normal addition. is there. Note that, for simplification, memory access instructions, branch instructions, etc. that would normally exist are omitted. In the case of a copy command (data transfer command), the S2 field 404 is ignored, and the contents of the register (transfer source register) specified in the S1 field 403 remain unchanged in the D field 402.\\nIt is copied (transferred) to the register (transfer destination register) specified by.\\nFIG. 5 shows an example of the instruction format and instruction repertoire in the case of a 2-byte / 2-operand instruction (2-byte fixed length instruction) system. In FIG. 5, the OP field 501\\nSpecifies the command function. The S1 field 503 has a register number (first operand) that specifies the first input, and the D field 502 has a register number (the same as the register number that specifies the output, the second operand) that specifies the second input. That is, this instruction format can specify two operands. As compared with FIG. 4, the point that the S2 field does not exist is the part that is clearly different from the instruction format of FIG. That is, the number of operands is one less. Further, the remaining field length is shorter than that of FIG.\\nThe instruction function includes a copy instruction (data transfer instruction), a 0 extension instruction, a sign extension instruction, and a 1 input transfer instruction as 1 input transfer instruction.\\nBit shift left instruction, addition instruction as 2 input operation instruction,\\nThere is a subtraction instruction, etc. Of these, the 1-bit left shift instruction is\\nDue to the instruction length, the numbers of the input register (transfer source register) and the output register (transfer destination register) are the same. Therefore, in this case, the S1 field stores not the register number but the extended instruction code for specifying the asl1 instruction.\\nIn order to clarify the advantages and disadvantages of the 4-byte / 3-operand instruction system and the 2-byte / 2-operand instruction system, consider the following formula, for example.\\nA = b + c + d; (A) This is converted into an instruction sequence (instruction sequence (A1)) of a 4-byte / 3-operand instruction system as follows.\\nAdd Rb, Rc, Ra add Ra, Rd, Ra On the other hand, when this is converted into an instruction sequence (instruction sequence (A2)) of a 2-byte / 2-operand instruction system, it becomes as follows.\\nMov Rb, Ra add Rc, Ra add Rd, Ra If the instruction system has 4 bytes and 3 operands, the number of execution instructions is 2, but storage in the instruction memory (and instruction fetch for execution) The number of bytes is 8 bytes. On the other hand 2\\nIn the case of an instruction system of bytes and 2 operands, the number of executed instructions increases to 3, but the number of bytes stored (and instruction fetch for execution) in the instruction memory decreases to 6 bytes. This tendency generally holds. It is generally accepted that the 4-byte / 3-operand instruction system has a 10 to 20% smaller number of executed instructions than the 2-byte / 2-operand instruction system, but the stored byte number is increased by 60%.\\nHowever, there is one problem with the 2-byte / 2-operand instruction system. It involves the extra data transfer instructions needed in the two-operand instruction set. Although the above equation (A) can be similarly explained, the following equation (B) will be explained here.\\nA = b + c; This is converted into an instruction sequence (instruction sequence (B1)) of a 4-byte / 3-operand instruction system as follows.\\nOn the other hand, when this is converted into a 2-byte / 2-operand instruction sequence (instruction sequence (B2)), it becomes as follows.\\nMov Rb, Ra add Rc, Ra 4 bytes / 3 operands instruction system can be executed in one clock by using only one of the pipelines. On the other hand, in the case of a 2-byte / 2-operand instruction system, a data flow exists between two extra instructions, a copy (data transfer) instruction mov and a subsequent add instruction add. That is, the value resulting from the preceding instruction is used by the subsequent instruction. Therefore, it is necessary to wait for the result of the preceding instruction mov to execute the succeeding instruction add, which takes two clocks. If the following instruction sequence mov Rb, Ra add Rc, Rd, there is no data flow between two instructions, so 2\\nAlthough it can be executed in one clock using one pipeline, the instruction string (B2) corresponding to the expression (B) requires extra processing time because of the data flow. When the superscalar system is adopted, it can be said that the 2-byte / 2-operand instruction system tends to take more execution time than the 4-byte / 3-operand instruction system because of the large number of execution instructions.\\nThe problem of the 2-byte / 2-operand instruction system has been explained by comparing it with the 4-byte / 3-operand instruction system.\\nWhen executing a 4-operand operation, the instruction sequence (A\\nThere is a data flow as in 1), and there are similar problems to the 2-byte / 2-operand instruction system.\\nThe existing microprocessors are:\\nDue to the accumulation of software assets and the inheritance of software assets that have been built up to date, it is difficult to change the instruction format and instruction system. Therefore, it is necessary to improve the processing speed while maintaining the conventional instruction format and instruction system.\\nAn object of the present invention is to reduce the pipeline stall due to data hazard in the superscalar system and to realize the improvement of the processing speed.\\nAnother object of the present invention is to reduce the number of execution instructions and realize an improvement in processing speed.\\nFurther, another object of the present invention is 2 bytes.\\nIt is to realize an improvement in the processing speed of a data processing device that executes a two-operand instruction system.\\nThe above and other objects and novel characteristics of the present invention will be apparent from the description of this specification and the accompanying drawings.\\n[0031]\\nThe following is a brief description of an outline of a typical invention among the inventions disclosed in the present application.\\nThe pipeline type data processing device has a dependency on the stage for reading a fixed length instruction stored in the instruction memory and the data executed by the plurality of read instructions, and the plurality of instructions have a predetermined value. If there is a relationship,\\nIt has a stage for changing the plurality of instructions so that the plurality of instructions can be executed in parallel in a plurality of pipelines, and a stage for executing the changed plurality of instructions in parallel.\\nThe instruction system is a 2-byte 2-operand instruction system, but is internally processed as a 3-operand instruction system. That is, the instruction fetch stage fetches two instructions. The instruction decode stage decodes two adjacent instructions. Two sets of computing units for the computing stage are prepared. Then, two adjacent two-operand instructions are\\nThe instruction decoder is provided with means for detecting equality with three three-operand instructions and, if so, means for integrating two instructions into one three-operand instruction and sending it to the subsequent execution stage. As a result, one 3-operand instruction is sent to the execution stage and executed in one clock. Further, when it is detected that two adjacent instructions have a data flow relationship but cannot be integrated into one three-operand instruction, means for sending the source data of the preceding instruction to the arithmetic unit for the subsequent instruction is provided.\\nThis allows two instructions to be executed simultaneously. Due to the above two, it is possible to execute two instruction processing in one clock, which conventionally took two clocks due to the data flow between the adjacent instructions. Therefore, the number of execution clocks as a whole can be reduced.\\n[0035]\\nDESCRIPTION OF THE PREFERRED EMBODIMENTS A microprocessor according to an embodiment of the present invention will be described in order of items.\\n<< Microprocessor Pipeline Data Path >> FIG. 6 shows a pipeline data path of the microprocessor according to the embodiment of the present invention. It will be described below that the microprocessor fetches and executes an instruction of a 2-byte / 2-operand instruction system as shown in FIG.\\nThe first stage 700 is an instruction fetch stage. The second stage 800 is an instruction decode stage. The third stage 900 is a calculation stage. The fourth stage 1000 is a stage for writing to a register and forwarding. A first latch group 750, a second latch group 850, and a third latch group 850 are provided between each stage.\\nThere is a latch group 950. It should be noted that each stage in the embodiments of FIG. 6 and subsequent figures shows the flow of data, and does not show the physical arrangement of the circuits and the like described in each stage.\\n<< Instruction Fetch Stage >> FIG. 7 is a detailed block diagram of the first stage 700 and the first latch group 750. The first stage 700 includes a program counter (PC) 701, a fetch controller 702, and an instruction memory 703. The role of the instruction fetch stage of the first stage 700 is to pass the instructions in the instruction memory to the next instruction decode stage of the second stage 800.\\nThe address indicated by the program counter 701 is sent to the signal line 704, and the instruction 4 bytes (2 instructions) in the instruction memory 703 are fetched to the fetch control unit 702 via the signal line 705. The two instructions fetched by the fetch control unit 702 are sent to the signal line 7 according to the signal line 803.\\nIt is sent to 06 and 707. Then the first latch group 750\\nThe content of the signal line 706 is stored in the latch 751 therein, and the content of the signal line 707 is stored in the latch 752. The latch 751 stores the first instruction and the latch 752 stores the second instruction. Here, the first instruction is the second instruction in the instruction sequence.\\nIt precedes the order. In the present application, the first instruction is also referred to as a preceding instruction and the second instruction is also referred to as a subsequent instruction.\\nThe value of the program counter 701 is set to 4\\nThe value added with is reset to the program counter 701. The value of the program counter 701 (the value of the address that accesses the instruction memory) is set to be a multiple of 2 so that a 4-byte instruction (2 instructions) is fetched from the instruction memory and latched in the first latch group 750. The first stage 700 operates. However, the 4-byte instruction fetched from the instruction memory is not always latched in the first latch group 750 as it is. That is, the second stage 80\\nWhen viewed from the instruction decoder stage which is 0, information about how many bytes ahead of the current instruction the next desired instruction is sent to the fetch control unit 702 of the first stage 700 via the signal line 803.\\nIn response to this, the fetch control unit 702 of the first stage 700 utilizes the buffer existing in the fetch control unit 702 to send out the desired 4 bytes (2 instructions) of the instruction decoding stage to the signal lines 706 and 707. 1 latch group 7\\nIt stores in the latches 751 and 752 in 50.\\n<< Instruction Decode Stage >> FIG. 8 shows a detailed block diagram of the second stage 800 and the second latch group 850. The second stage 800 includes a decode controller 8\\n01 and register file 802. The role of the instruction decode stage of the second stage 800 is as follows. (1) Prepare input data used by two instructions and pass it to the next operation stage (third stage 900).\\n(2) The data flow between two instructions is inspected, and the execution result of the preceding instruction (first instruction) is compared with the subsequent instruction (second instruction).\\nIf two instructions are not used, the processing stage is requested to process two instructions.\\n(3) The data flow between two instructions is checked, and if the execution result of the preceding instruction is used by the succeeding instruction,\\nModify the two instructions according to the given rules.\\n(4) The number of instructions requested to be processed in the operation stage is sent to the instruction fetch stage to prepare for the next pipeline processing.\\nInstruction decode stage (second stage 80\\nThe operation of 0) will be described below. FIG. 12 shows a detailed block diagram of a part of the decoding control unit 801. The decode control unit 801 has a data flow detection circuit DFDC, an instruction conversion circuit INCC, and the like. Instruction conversion circuit INCC\\nHas selectors SEL1 to SEL4, processes the contents of the latches 751 and 752 under the control of the data flow detection circuit DFDC, and converts them into the contents of the latches 851 and 852.\\nOP of the first instruction which is the content of the latch 751\\nThe field is OP-1, the D field is D-1, and the S1 field is S1-1. The OP field of the second instruction, which is the contents of the latch 752, is OP-2, the D field is D-2, and the S1 field is S1-2. Latch 85\\nThe OP field of the first instruction, which is the content of 1, is OPN-\\n1, D field is DN-1, S1 field is S1N-\\nLet it be 1. The OP field of the second instruction, which is the contents of the latch 852, is OPN-2, the D field is DN-2, and S1.\\nLet the field be S1N-2. The second instruction, which is the content of the latch 852, further has an S2 field, which is S2.\\n2N-2.\\nThe decode control unit 801 fetches two instructions, a preceding instruction and a succeeding instruction, from the latches 751 and 752 in the latch group 750 via signal lines 753 and 754. Then, the data flow detection circuit DFDC checks whether or not the register number of the D field (D-1) of the preceding instruction is equal to the register number of the S1 field (S1-2) or the D field (D-2) of the subsequent instruction. .\\nIf the register numbers are not equal, it can be determined that there is no data flow. If the register numbers are the same, it can be determined that there is a data flow. Then, the data flow detection circuit DFDC receives the control signal 821.\\nTo 824, and switches the selectors SEL1 to SEL4 respectively to switch the latch 8 via the signal lines 813 and 804.\\nThe first and second instructions converted into 51 and 852 are stored. The invalid command NOP820 generated by INCC is always input to one input of the selectors SEL1 and SEL2.\\nFurther, a new command generated by the data flow detection circuit DFDC is input to the selector SEL2 via the signal line 840. The new instruction input to the selector SEL2 via the signal line 840 is generated by the data flow detection circuit DFDC based on 0P-1 of the latch 751 and 0P-2 of the latch 752, and is input to 0P-2 of the latch 852. Is stored. As an example of the new instruction generated, 0P-1 is a 1-bit shift instruction asl1\\nThere is a 1-bit shift addition instruction asl1add generated when 0P-2 is the addition instruction add.\\nThe selector SEL3 is S1-1 or D-.\\nThis is for selecting one of the two values and storing it in S1N-2.\\nThe selector SEL4 is S1-1 or S1.\\n-2 is selected and stored in S2N-2.\\nFIG. 11 shows rules for converting two instructions in the instruction decode stage into two instructions in the operation stage (conditions and instructions across the operation stage). The first instruction is either translated or not translated into an invalid instruction nop. The second instruction is converted from the 2-byte / 2-operand format shown in FIG. 5 to the 4-byte / 3-operand format shown in FIG. 4 or converted into an invalid instruction nop. The ALU in FIG. 11 is a general name for two-input operation instructions such as arithmetic operations (addition, subtraction, etc.) and logical operations (logical product, logical sum, etc.). As described above, zextALU is an instruction that zero-extends the first input to the arithmetic unit and performs ALU operation. asl1ALU is an instruction for shifting the first input to the arithmetic unit to the left by 1 bit and performing the ALU operation.\\nFIG. 11A shows a 2-operand type operation instruction which requires two instructions, a copy instruction mov and an operation instruction ALU, in order to execute a three-operand operation instruction.\\nIt is converted into a three-operand operation instruction ALU. This is the case where the register number of the D field of the copy instruction mov matches the register number of the D field of the arithmetic instruction ALU. In this case, the first instruction is converted into an invalid instruction nop, and the second instruction is converted into a three-operand arithmetic instruction and passed to the arithmetic stage.\\nThe values stored in the fields of the latches 851 and 852 are summarized as follows. In addition,\\n“←” means that the value on the right side of “←” is stored on the left side of “←”.\\n[0055]  Specifically, it is as follows. OP-1 of the latch 751\\nIt is assumed that \"mov\" is stored in \"\", \"RN\" is stored in \"D-1\", and \"Rm\" is stored in \"S1-1\". Also, the latch 752\\nOP-2 has \"ALU\", D-2 has \"RN\", S\\nIt is assumed that “Rl” is stored in 1-2. Where D\\nThe data flow detection circuit DFDC detects that both -1 and D-2 are \"RN\" and the register numbers match. Then, the data flow detection circuit DFDC causes the selector SEL1 via 821 so that SEL1 selects the nop instruction 820.\\nAnd stores the nop instruction 820 in OPN-1 of the latch 851. The data flow detection circuit DFDC includes a latch 7\\n51 D-1 and S1-1 are directly connected to the signal lines 753 and 8\\nThe data is stored in DN-1 and S1N-1 of the latch 851 via 13.\\nFurther, the data flow detection circuit DFDC controls the selector SEL2 via the control signal 822 so that the selector SEL2 selects OP-2 of the latch 752, and OP-2 of the latch 752 is OPN- of the latch 852.\\n2 is stored. Further data flow detection circuit DFDC\\nControls the selector SEL3 via the control signal 823 so that the selector SEL3 selects S1-1 of the latch 751, and the S1-1 of the latch 751 is changed to the S1N of the latch 852.\\n-2. Further, the data flow detection circuit DFDC stores D-2 of the latch 752 in DN-2 of the latch 852 as it is via the signal line 754. Further, in the data flow detection circuit DFDC, the selector SEL4 has a latch 75.\\nThe selector SEL4 is controlled via 834 so as to select S1-1 of 2 and S1-1 of latch 752 is changed to S2N−.\\n2 is stored.\\nFIG. 11B shows the case where the register number of the D field of the copy instruction mov matches the register number of the S1 field of the arithmetic instruction ALU. In this case, the second instruction is converted into a three-operand operation instruction and passed to the operation stage without changing the first instruction.\\nThe values stored in the fields of the latches 851 and 852 are summarized as follows.  Specifically, it is as follows. OP-1 of the latch 751\\nIt is assumed that \"mov\" is stored in \"\", \"RN\" is stored in \"D-1\", and \"Rm\" is stored in \"S1-1\". Also, the latch 752\\nOP-2 has \"ALU\", D-2 has \"Rx\", S\\nIt is assumed that “RN” is stored in 1-2. Where D\\nThe data flow detection circuit DFDC detects that both -1 and S1-2 are \"RN\" and the register numbers match. The data flow detection circuit DFDC then selects the selector SEL.\\n1 controls the selector SEL1 via 821 so that OP-1 of the latch 751 (mov instruction in this case) is selected.\\nThe v instruction is stored in OPN-1 of the latch 851.\\nIn the data flow detection circuit DFDC, the D-1 and S1-1 of the latch 751 are directly connected to the signal line 753,\\nThe data is stored in DN-1 and S1N-1 of the latch 851 via 813. Further, the data flow detection circuit DFDC controls the selector SEL2 via the control signal 822 so that the selector SEL2 selects OP-2 of the latch 752, and stores OP-2 of the latch 752 in OPN-2 of the latch 852. . The data flow detection circuit DFDC stores D-2 of the latch 752 as it is in DN-2 of the latch 852 via the signal lines 754 and 804. Further, the data flow detection circuit DFDC controls the selector SEL3 via the control signal 823 so that the selector SEL3 selects S1-1 of the latch 751, and the S1N-2 of the latch 852 is controlled by the selector SEL3 via the signal line 804. Store S1-1. The data flow detection circuit DFDC connects S1-2 of the latch 752 via the signal lines 754 and 804.\\nIt is stored in S2N-2 of the latch 852 as it is.\\nIt should be noted that the values specifically stored in the latches 851 and 852 are made as described above.\\n(2) It will be omitted after this. This is because the values to be stored in the latches 851 and 852 can be created in the same manner as (1) and (2) in FIG.\\nFIG. 11 (3) is for converting a 1-operand type 1-bit left shift instruction into a 2-operand type 1-bit left shift instruction. Register field number of copy instruction mov and D of 1-bit left shift instruction asl1\\nThis is the case when the field register numbers match. In this case, the first instruction becomes an invalid instruction nop in the operation stage,\\nThe second instruction is converted into a 2-operand 1-bit left shift instruction asl1 and passed.\\nThat is, each field is converted as follows.\\n[0063]  In FIG. 11, (4) is a case where the first instruction is the copy instruction mov and the second instruction or condition does not correspond to (1), (2) and (3) in FIG. In this case, the first instruction remains unchanged and the second instruction is converted into the invalid instruction nop and passed to the operation stage. The \"other\" instructions are executed in the next pipeline, which is one clock offset.\\nThat is, each field is converted as follows.\\nOPN-1 ← OP-1, DN-1 ← D-1, S1N-1 ← S1-1, OPN-2 ← nop In FIG. 11 (5), 0 extension instruction zext and operation instruction ALU are set to 0.\\nIt is combined with the extended operation instruction zextALU. This is the case where the register number of the D field of the 0 extension instruction zext matches the register number of the D field of the arithmetic instruction ALU.\\nIn this case, the first instruction is an invalid instruction nop in the operation stage.\\nThe second instruction is a 3-operand 0-extended operation instruction zextALU\\nIs converted to and passed.\\nThat is, each field is converted as follows.\\n[0067]  FIG. 11 (6) shows a case where the register number in the D field of the 0 extension instruction zext and the register number in the S1 field of the add instruction add match. In this case, the first instruction remains in the operation stage, and the second instruction has a 3-operand value of 0.\\nConverted to the extended addition instruction zextadd and passed.\\nThat is, each field is converted as follows.\\n[0069]  In addition to the addition instruction add, a commutative logical product instruction and, a logical sum instruction or, or the like may be converted in the same manner.\\nIn (7) of FIG. 11, the first instruction is the 0 extension instruction ze.\\nThis is the case where the second instruction or condition does not correspond to (5) or (6) in FIG. 11 at xt. In this case, the first instruction remains unchanged and the second instruction is converted into the invalid instruction nop and passed to the operation stage. The \"other\" instructions are executed in the next pipeline, which is one clock offset.\\nThat is, each field is converted as follows.\\nOPN-1 ← OP-1, DN-1 ← D-1, S1N-1 ← S1-1, OPN-2 ← nop (8) in FIG. 11 is a 1-bit left shift instruction asl1 and an operation instruction\\nALU and 1-bit left shift operation instruction asl1ALU are combined. This is the case where the register number of the D field of the 1-bit left shift instruction asl1 and the register number of the D field of the arithmetic instruction ALU match. In this case, the first instruction is converted into the invalid instruction nop, and the second instruction is converted into the 3-operand 1-bit left shift operation instruction asl1ALU and passed to the operation stage.\\nThat is, each field is converted as follows.\\n[0074]  FIG. 11 (9) shows a case where the register number of the D field of the 1-bit left shift instruction asl1 and the register number of the S1 field of the add instruction add match. In this case, the second instruction is converted to the 3-operand 1-bit left shift addition instruction asl1add and passed to the operation stage without changing the first instruction.\\nThat is, each field is converted as follows.\\n[0076]  In (10) of FIG. 11, the first instruction is a 1-bit left shift instruction as.\\nThis is the case where the second instruction or condition does not correspond to (8) or (9) in FIG. 11 at l1. In this case, the first instruction remains unchanged and the second instruction is converted into the invalid instruction nop and passed to the operation stage. The \"other\" instructions are executed in the next pipeline, which is one clock offset.\\nThat is, each field is converted as follows.\\nOPN-1 ← OP-1, DN-1 ← D-1, S1N-1 ← S1-1, OPN-2 ← nop (11) in FIG. 11 shows a case where there is no data flow between two instructions. No instruction conversion is performed.\\nThe two new instructions converted by the decode controller 801 are sent to the signal lines 813 and 804 and stored in the latches 851 and 852 in the second latch group 850, respectively. In addition, the inspection result of the relationship between the preceding instruction and the succeeding instruction in the data flow detection circuit DFDC is shown in the PC of FIG.\\nThe instruction fetch stage (first stage 700) is communicated via the signal line 803 based on the updated value. That is,\\nThe instruction fetch stage is informed of the information specifying the two instructions to be decoded in the next pipeline.\\nFurther, the decode controller 801\\nS1 field (S1-1), D field (D-\\n1), and the S1 field 503 (S1-\\n2), the four register numbers of the D field 502 (D-2) are sent to the register file 802 via the signal lines 805, 806, 807 and 808. Register file 80\\nThe contents of the four registers in 2 are the signal lines 809 and 81.\\n0, 811, and 812, and latches 853 (1-1st input) and latches 854 (first latch) in the second latch group 74.\\n-2 input), latch 855 (2-1 input), latch 8\\n56 (2nd-2nd input).\\nA block diagram of the register file 802 is shown in FIG. The register file 802 includes a register RGSTR, a register control circuit RCC, and the like. Register RGSTR has 4 read ports and 2\\nThere is a light port of a book and signal lines 809 and 8 respectively.\\n10, 811, 812 and signal lines 955, 956 are connected. Therefore, the register file 802 can read the contents of four registers at the same time. Also, it is possible to write to two registers at the same time.\\nIn the case of (1), (5), and (8) of FIG. 11, the contents of the two registers designated by (S1-1) and (S1-2) are read onto the signal lines 811, 812. The latch 855 (the 2nd-1st input) and the latch 856 (the 2nd-2nd)\\nInput).\\nIn the case of (2), (6), and (9) of FIG. 11, the contents of the register designated in (S1-1) are read out on the signal lines 809 and 811, and the latch 853 (first-first) is read. 1\\nInput) and the latch 855 (2-1st input). The content of the register designated by (D-2) is the signal line 81.\\n2 is read out and stored in the latch 856 (2-2nd input).\\nIn the case of (3) in FIG. 11, the contents of the register designated in (S1-1) are read out to the signal line 811, and stored in the latch 855 (second 2-1 input).\\nIn the case of (4), (7), and (10) of FIG. 11, the contents of the register designated by (S1-1) are read out to the signal line 809, and the latch 853 (first-1 input) is read. ).\\nIn the case of (11) in FIG. 11, (S1-\\n1), (D-1), (S1-2), and the contents of the four registers designated by (D-2) are signal lines 809, 810, and 8\\n11 and 812, the latch 853 (first-1 input), the latch 854 (first-2 input), the latch 855.\\nIt is stored in the latch 856 (the 2-2nd input).\\n<< Execution Stage >> FIG. 9 shows the third stage 9\\n00 and the third latch group 950 are shown in detail. The third stage 900 includes an arithmetic control unit 901 and an ALU.\\nOperation units 902, 90 including (Alithmetic Logic Unit)\\n3, the first input adjustment circuits 904 and 905, the selector 906,\\nAnd 907. The role of the execution stage, which is the third stage 900, is to execute the operation of two instructions.\\nThe computing unit 902 and the first input adjusting circuit 904 are circuits for computing the preceding instruction, and are the second latch group 850.\\nFrom the two latches 853 and 854 in the first input to the first input and the second input from the second input via the signal lines 859 and 860 to the selector 90.\\nSent to 6. In addition, the first and second outputs from the two latches 953 and 954 in the third latch group 950 are the signal line 9\\n55, 956 to the selector 906.\\nThe selector 906 selects one of the signal lines 859, 955 and 956 according to the signal line 1001, and selects the arithmetic unit 90 via the first input circuit 904 and the signal line 912.\\nSend the data to 2. Also, the selector 906 is the signal line 86.\\nOne of 0, 955 and 956 is selected according to the signal line 1001 and data is sent to the arithmetic unit 902 via the signal line 913.\\nThe arithmetic control unit 901 takes in the instruction of the latch 851 in the second latch group 850, and connects the arithmetic unit 902 and the first input adjusting circuit 904 to the signal line 911 according to the instruction function.\\nAnd 908 to perform the operation for the preceding instruction. The resulting value (first output) is stored in the latch 953 in the third latch group 950 via the signal line 918.\\nOn the other hand, the arithmetic unit 903 and the first input adjusting circuit 9\\nReference numeral 05 denotes a circuit for calculating a subsequent instruction. The two latches 855 and 856 in the second latch group 850 connect the 2-1 input and the 2-2 input to the selector 907 via the signal lines 861 and 862. Sent. In addition, 2 in the third latch group 950\\nThe first output and the second output from one of the latches 953 and 954 are sent to the selector 907 via the signal lines 955 and 956.\\nThe selector 907 selects one of the signal lines 861, 955 and 956 according to the signal line 1002, and selects the arithmetic unit 90 via the first input circuit 905 and the signal line 914.\\nSend data to 3. Also, the selector 907 is the signal line 86.\\nOne of 2, 955 and 956 is selected according to the signal line 1002 and data is sent to the arithmetic unit 903 via the signal line 915. The arithmetic control unit 901 takes in the instruction of the latch 852 in the second latch group 850, controls the arithmetic unit 903 and the first input adjustment circuit 905 with the signal lines 910 and 909 according to the instruction function, and performs the arithmetic operation for the subsequent instruction. I do. The resulting value (second output) is stored in the latch 954 in the third latch group 950 via the signal line 919.\\nThe above is the execution stage (third stage 90).\\n0), but the s1add instruction and zextadd instruction will be supplementarily described. The asl1add instruction and zextadd instruction can be realized by finely adjusting the first input to the arithmetic unit 902 or 903 capable of realizing addition. That is, the first input is not directly input to the arithmetic unit, but is input to the first input adjustment circuit 904 or 905, and the arithmetic control unit 901 controls it.\\nThis can be realized by performing 1-bit left shift or 0-extension adjustment, inputting it to the arithmetic unit 902 or 903, and controlling it to perform normal addition.\\n<< Write Stage >> FIG. 10 is a block diagram for explaining the operation of the fourth stage 1000. The fourth stage 1000 is composed of a register number decoding circuit 1010 and a forwarding control circuit 1020. The role of the fourth stage 1000, which is a stage that performs writing to a register and forwarding, is as follows.\\n(1) Write the operation results of two instructions to the register of the specified number.\\n(2) If the operation results of two instructions are used in the operation stage (next pipeline) at the current clock, it is not the value latched in the second latch group 850,\\nThe value latched in the third latch group 950 is adjusted so as to be input to the arithmetic unit (forwarding).\\nFirst, the process (1) will be described. The fourth stage 1000 includes latches 95 in the third latch group 950.\\nThe two instructions calculated immediately before from 1, 952 are sent to the signal line 9\\nIt is taken into the register number decoding circuit 1010 via 57 and 958. Further, the latch 953 in the third latch group 950,\\nThe value of the immediately preceding calculation result from 954 is output to signal lines 955 and 956\\nTo send to. Then, the register number decoding circuit 1010 sends the register numbers in the two D fields of the instruction executed immediately before to the signal lines 1003 and 1004 to specify the write register number of the register file 802 of the second stage 800. Thus, the values of the two calculation results are written in the register file 802.\\nNext, the process (2) will be described. The fourth stage 1000 includes latches 851 in the second latch group 850,\\nThe two instructions to be calculated this time from 852 are signal line 857,\\nIt is taken into the forwarding control circuit 1020 via 858. In addition, the latches 951 in the third latch group 950,\\nThe two instructions calculated immediately before from 952 are sent to the signal line 95.\\nForwarding control circuit 1020 via 7, 958\\nTake in. Then, the forwarding control circuit 102\\nFor 0, it is checked whether the register numbers in the two D fields of the instruction executed immediately before and the numbers of the S1 field and S2 field of the two instructions to be calculated this time have the same value. If there is the same one as a result of the inspection, the latches 853, 854, 8 in the second latch group 850 are checked for that portion.\\nThe forwarding control circuit 1020 is configured so that the values (signal lines 955 and 956) in the latches 953 and 954 in the third latch group 950 are input to the arithmetic units 902 and 903 instead of the values in 55 and 856. , 1002 to control the two selectors 906 and 907.\\n<< Processing of Instruction Sequence >> FIG. 13 shows how the instruction sequence is processed by individual clocks in the superscalar processing of the present invention. For comparison, it is also shown how the instruction sequence is processed with individual clocks only when the invalid instruction nop is inserted when the two instructions cannot be executed in parallel. In the present invention, it is possible to process two instructions per clock. Also,\\nIn the present invention, the number of execution instructions is 6 less and the execution time is shorter than that in the case where the invalid instruction nop is inserted when two instructions cannot be executed in parallel (about 40% in this instruction sequence).\\nThere are less execution instructions).\\nIf the preceding instruction is a transfer type instruction such as mov, zext, asl1 and the following instruction is an addition instruction such as add, two instructions are converted into one instruction and executed in one clock. The number of clocks can be reduced and the speed can be increased. Further, even if the preceding instruction is a transfer instruction and the subsequent instruction is an operation instruction, and there is a data flow between the two, it is executed with one clock, so that the number of clocks as a whole can be reduced and the speed can be increased. .\\n<< Application Example to Microcomputer >> FIG. 1\\n4 shows a microcomputer system using the superscalar system of the present invention. The microcomputer MCU includes a central processing unit CPU, a floating point processing unit FPU, and a multiplier MULT having a product-sum operation function.\\nA memory management unit MMU for converting a logical address into a physical address, an instruction and data cache memory CACHE, a cache controller CCNT, an external bus interface EBIF, a 32-bit logical address bus LABUS, and a 32-bit physical address data bus. PABUS and 32-bit data bus DBUS, D\\nBS and BS are formed on a semiconductor substrate such as single crystal silicon and resin-sealed (sealed in a plastic package).\\nThe microcomputer MCU is connected via an external address bus EAB and a data bus EDB to a main memory unit MM composed of a semiconductor memory using dynamic memory elements such as DRAM as memory cells.\\nThe central processing unit CPU is composed of the pipeline data path shown in FIG. However, a memory access stage is provided between the third stage and the fourth stage to form a so-called 5-stage pipeline. In addition,\\nThe data memory and the instruction memory 703 correspond to the cache memory CACHE or the main memory MM and do not exist in the central processing unit CPU. The central processing unit CPU executes the instruction of the instruction system of the 2-byte fixed length instruction, and the arithmetic unit 90\\nReference numerals 2 and 903 each have a 32-bit ALU or the like. The register file 802 has 16 general-purpose registers having a 32-bit length. That is, the central processing unit CPU executes the instructions of the 2-byte / 2-operand instruction system (instruction set) described in Japanese Patent Laid-Open No. 5-197546. The CPU described in JP-A-5-197546 is not a superscalar system. On the other hand, the central processing unit CPU is a superscalar system, and the central processing unit CPU can execute the same command system as the command system described in the application number 1992/897457. Therefore,\\nHigh-speed performance can be achieved while maintaining compatibility with existing software (object code compatibility). Also,\\nThe high code efficiency, which is a characteristic of 2-byte fixed length instructions, can be maintained.\\nAlthough the invention made by the present inventor has been specifically described based on the embodiments, the present invention is not limited to the embodiments and various modifications can be made without departing from the scope of the invention. There is no end. For example,\\nIn the embodiment shown in FIG. 6 and the following, the case of the 2-byte / 2-operand instruction system has been described, but it is also applicable to the case of the 4-byte / 3-operand instruction system. Although the 0 extension instruction and the 0 extension operation instruction have been described, the same can be applied to the sign extension instruction and the sign extension operation instruction. Further, although the case where the register is specified in the S1 field of the transfer instruction of the first instruction has been described, the case where the S1 field is immediate data can be applied.\\n[0105]\\nThe effects obtained by typical ones of the inventions disclosed in the present application will be briefly described as follows.\\nThe instructions can be executed in parallel by detecting the data flow between adjacent instructions and converting the instructions. Therefore, it is possible to execute a plurality of instruction processes in one clock, which conventionally takes a plurality of clocks. Thereby,\\nThe number of execution clocks as a whole can be reduced.\\n[Brief description of drawings]\\nFIG. 1 illustrates a pipelined implementation of a microprocessor.\\nFIG. 2 shows a concept of pipeline processing.\\nFIG. 3 shows the concept of superscalar processing.\\nFIG. 4 shows an example of an instruction format and an instruction repertoire of a 4-byte instruction system.\\nFIG. 5 shows an example of a command format and a command repertoire of a 2-byte command system.\\nFIG. 6 is a diagram showing a data path of a pipeline of a microprocessor according to an embodiment of the present invention.\\nFIG. 7 is a detailed block diagram of a first stage and a first latch group.\\nFIG. 8 is a detailed block diagram of a second stage and a second latch group.\\nFIG. 9 is a detailed block diagram of a third stage and a third latch group.\\nFIG. 10 is a block diagram illustrating the operation of the fourth stage.\\nFIG. 11 shows rules for converting two instructions in the instruction decode stage into two instructions in the operation stage.\\nFIG. 12 shows a detailed block diagram of a part of a decoding control unit.\\nFIG. 13 shows how an instruction sequence is processed with individual clocks.\\nFIG. 14 is a diagram of a microcomputer system using the superscalar system of the present invention.\\nFIG. 15 is a block diagram of a register file.\\n[Explanation of symbols]\\n101 ... 1st stage, 103 ... 2nd stage, 1\\n05 ... 3rd stage, 107 ... 4th stage, 10\\n8, 109, 110 ... Signal line, 401 ... OP field, 402 ... D field, 403 ... S1 field, 404 ... S2 field, 501 ... OP field, 502 ... D field, 503 ... S1 Field: 700 ... First stage, 800 ... Second stage, 900 ... Third stage, 1000 ... Fourth stage, 701 ... Program counter, 702 ... Fetch controller, 703 ... Instruction memory, 704 , 705,\\n706, 707 ... Signal line, 751, 752 ... Latch, 801, Decode control unit, 802 ... Register file, 803, 804, 805, 806, 807, 8\\n08, 809, 810, 811, 812, 813 ... Signal lines, 851, 852, 853, 854, 855, 85\\n6 ... Latch, 857, 858, 859, 860, 86\\n1, 862 ... Signal line, 901 ... Arithmetic control unit, 902\\n... calculator, 903 ... calculator, 904 ... first input adjusting circuit, 905 ... first input adjusting circuit, 906 ... selector, 907 ... selector, 908, 909, 910, 91\\n1, 912, 913, 914, 915, 916, 91\\n7, 918, 919 ... Signal line, 951, 952, 95\\n3, 954 ... Latch, 955, 956, 957, 95\\n8 ... Signal line, 1001, 1002, 1003, 100\\n4 ... Signal line, 1010 ... Register number control circuit, 1\\n020 ... Forwarding control circuit, INCC ... Command conversion circuit, DFDC ... Data flow detection circuit, MC\\nU ... Microcomputer, CPU ... Central processing unit, FPU ... Floating point processing unit, MULT ...\\n... Multiplier, MMU ... Memory management unit, CACHE\\n... Instruction and data cache memory, CCNT ...\\n... cache controller, EBIF ... external bus interface, LABUS ... 32-bit logical address bus, PABUS ... 32-bit physical address data bus, DBUS, DBS ... 32-bit data bus,\\nEAB ... External address bus, EDB ... External data bus, MM ... Main memory, RCC ... Register control circuit, RGSTR ... Register.' metadata={'source': 'doc_txt\\\\doc_0.text'}\n"
     ]
    }
   ],
   "source": [
    "print(docs[0])"
   ]
  },
  {
   "cell_type": "code",
   "execution_count": 28,
   "metadata": {},
   "outputs": [
    {
     "name": "stdout",
     "output_type": "stream",
     "text": [
      "50603\n"
     ]
    }
   ],
   "source": [
    "print(len(docs[0].page_content))"
   ]
  },
  {
   "cell_type": "code",
   "execution_count": 29,
   "metadata": {},
   "outputs": [
    {
     "name": "stdout",
     "output_type": "stream",
     "text": [
      "1\n"
     ]
    }
   ],
   "source": [
    "print(len(docs[0].metadata))"
   ]
  },
  {
   "cell_type": "code",
   "execution_count": 30,
   "metadata": {},
   "outputs": [
    {
     "name": "stdout",
     "output_type": "stream",
     "text": [
      "384\n"
     ]
    }
   ],
   "source": [
    "print(len(bge_embeddings.embed_query(docs[0].page_content)))"
   ]
  },
  {
   "cell_type": "markdown",
   "metadata": {},
   "source": [
    "# 1. Retrieving full documents rather than chunks"
   ]
  },
  {
   "cell_type": "code",
   "execution_count": 31,
   "metadata": {},
   "outputs": [],
   "source": [
    "# This text splitter is used to create the child documents\n",
    "child_splitter = RecursiveCharacterTextSplitter(chunk_size=400)\n",
    "\n",
    "\n",
    "# The vectorstore to use to index the child chunks\n",
    "vectorstore = Chroma(\n",
    "    collection_name=\"full_documents\",\n",
    "    embedding_function=bge_embeddings  #OpenAIEmbeddings()\n",
    ")\n",
    "\n",
    "# The storage layer for the parent documents\n",
    "\n",
    "store = InMemoryStore()\n",
    "\n",
    "full_doc_retriever = ParentDocumentRetriever(\n",
    "    vectorstore=vectorstore,\n",
    "    docstore=store,\n",
    "    child_splitter=child_splitter,\n",
    ")"
   ]
  },
  {
   "cell_type": "code",
   "execution_count": 32,
   "metadata": {},
   "outputs": [],
   "source": [
    "full_doc_retriever.add_documents(docs, ids=None)"
   ]
  },
  {
   "cell_type": "code",
   "execution_count": 33,
   "metadata": {},
   "outputs": [
    {
     "data": {
      "text/plain": [
       "['1ffeb640-0d03-4be4-94df-8f43554438c4',\n",
       " '40798ab3-c2ce-451f-984f-1cdf02ae97f7',\n",
       " 'fef62d8d-4e5a-4e62-aa6d-1669f387b4e9',\n",
       " 'b4c75ca0-78ae-4c38-b9ad-f524cb1f97ee',\n",
       " 'beb8123c-bc03-4e30-929e-26bd7360ecd9',\n",
       " '3d970c8a-7368-4121-a379-d5cf2bbc7b92',\n",
       " 'f34da6fd-b8f8-4cef-ae2b-0fa169228a73',\n",
       " 'de0dcb4b-1fb3-462b-9716-67e5e878c7de',\n",
       " '22514750-2323-492e-9603-cefae75119e1',\n",
       " '886b236f-d9fe-469a-999a-ce993bb46ecc',\n",
       " '079360ef-401f-4a58-b2cf-d45d12399507',\n",
       " '62472a4b-c6e6-4b83-ab39-6644e1567f54',\n",
       " '8dca7025-797d-4e95-bb61-4c45b0751915',\n",
       " '3979aff4-f1e8-452d-9fa2-cba1cc3290f2',\n",
       " 'b1813197-e0b0-4edf-b9cd-1736afc9a184',\n",
       " '75d59648-8cd3-4a0b-8066-11699ea31c8c',\n",
       " 'df9ed6b8-f5d0-439e-b880-eed05cf27d45',\n",
       " 'ad0bafec-bbd7-4e5d-9639-0667ea089cbd',\n",
       " '3c999257-e976-4b73-a582-1ff2f0cd5f37',\n",
       " '11ebccfc-3950-4cfb-b2c4-e143681a43e4']"
      ]
     },
     "execution_count": 33,
     "metadata": {},
     "output_type": "execute_result"
    }
   ],
   "source": [
    "# our\n",
    "list(store.yield_keys())"
   ]
  },
  {
   "cell_type": "code",
   "execution_count": 37,
   "metadata": {},
   "outputs": [
    {
     "name": "stdout",
     "output_type": "stream",
     "text": [
      "2\n",
      "According to the invention, there is provided data processing apparatus comprising: a main store capable of holding a sequence of multi-word blocks of instructions; a slave store having a faster access time and a smaller information capacity than the main store; an instruction buffer capable of holding one of the blocks and comprising two sections of unequal size; means for repeatedly scanning\n",
      "396\n"
     ]
    }
   ],
   "source": [
    "# sub_docs\n",
    "query1=\"Data processing apparatus having high speed slave store\"\n",
    "sub_docs = vectorstore.similarity_search(query1, k=2)\n",
    "print(len(sub_docs))\n",
    "print(sub_docs[0].page_content)\n",
    "print(len(sub_docs[0].page_content))"
   ]
  },
  {
   "cell_type": "code",
   "execution_count": 41,
   "metadata": {},
   "outputs": [
    {
     "name": "stdout",
     "output_type": "stream",
     "text": [
      "14657\n",
      "{'source': 'doc_txt\\\\doc_8.text'}\n",
      "97970\n",
      "{'source': 'doc_txt\\\\doc_2.text'}\n"
     ]
    }
   ],
   "source": [
    "retrieved_docs = full_doc_retriever.get_relevant_documents(query1)\n",
    "print(len(retrieved_docs[0].page_content))\n",
    "print(retrieved_docs[0].metadata)\n",
    "print(len(retrieved_docs[1].page_content))\n",
    "print(retrieved_docs[1].metadata)"
   ]
  },
  {
   "cell_type": "markdown",
   "metadata": {},
   "source": [
    "# 2. Retrieving larger chunks from a document, when document is very big."
   ]
  },
  {
   "cell_type": "markdown",
   "metadata": {},
   "source": [
    "Sometimes, the full documents can be too big to want to retrieve them as is. In that case, what we really want to do is to first split the raw documents into larger chunks, and then split it into smaller chunks. We then index the smaller chunks, but on retrieval we retrieve the larger chunks (but still not the full documents)."
   ]
  },
  {
   "cell_type": "code",
   "execution_count": 60,
   "metadata": {},
   "outputs": [],
   "source": [
    "# This text splitter is used to create the parent documents - The big chunks\n",
    "# parent_splitter = RecursiveCharacterTextSplitter(chunk_size=2000)\n",
    "parent_splitter = RecursiveCharacterTextSplitter(chunk_size=100, chunk_overlap=0)\n",
    "\n",
    "# This text splitter is used to create the child documents - The small chunks\n",
    "# It should create documents smaller than the parent\n",
    "# child_splitter = RecursiveCharacterTextSplitter(chunk_size=400)\n",
    "child_splitter = RecursiveCharacterTextSplitter(chunk_size=50, chunk_overlap=0)\n",
    "\n",
    "# The vectorstore to use to index the child chunks\n",
    "vectorstore = Chroma(collection_name=\"split_parents\", embedding_function=bge_embeddings) #OpenAIEmbeddings()\n",
    "\n",
    "# The storage layer for the parent documents\n",
    "store.store = {}  # Clear all key-value pairs\n",
    "store = None\n",
    "store = InMemoryStore()"
   ]
  },
  {
   "cell_type": "code",
   "execution_count": 61,
   "metadata": {},
   "outputs": [],
   "source": [
    "big_chunks_retriever = ParentDocumentRetriever(\n",
    "    vectorstore=vectorstore,\n",
    "    docstore=store,\n",
    "    child_splitter=child_splitter,\n",
    "    parent_splitter=parent_splitter,\n",
    ")"
   ]
  },
  {
   "cell_type": "code",
   "execution_count": 62,
   "metadata": {},
   "outputs": [],
   "source": [
    "big_chunks_retriever.add_documents(docs)"
   ]
  },
  {
   "cell_type": "code",
   "execution_count": 63,
   "metadata": {},
   "outputs": [
    {
     "name": "stdout",
     "output_type": "stream",
     "text": [
      "<class 'langchain.storage.in_memory.InMemoryStore'>\n"
     ]
    }
   ],
   "source": [
    "print(type(store))"
   ]
  },
  {
   "cell_type": "code",
   "execution_count": 65,
   "metadata": {},
   "outputs": [
    {
     "name": "stdout",
     "output_type": "stream",
     "text": [
      "20093\n"
     ]
    }
   ],
   "source": [
    "print(len(list(store.yield_keys())))"
   ]
  },
  {
   "cell_type": "code",
   "execution_count": 69,
   "metadata": {},
   "outputs": [],
   "source": [
    "query1=\"Data processing apparatus having high speed slave store\"\n",
    "sub_docs = vectorstore.similarity_search(query1, k=4)"
   ]
  },
  {
   "cell_type": "code",
   "execution_count": 71,
   "metadata": {},
   "outputs": [
    {
     "name": "stdout",
     "output_type": "stream",
     "text": [
      "4\n"
     ]
    }
   ],
   "source": [
    "print(len(sub_docs))"
   ]
  },
  {
   "cell_type": "code",
   "execution_count": 72,
   "metadata": {},
   "outputs": [
    {
     "name": "stdout",
     "output_type": "stream",
     "text": [
      "processing unit with fast access to data and\n"
     ]
    }
   ],
   "source": [
    "print(sub_docs[0].page_content)"
   ]
  },
  {
   "cell_type": "code",
   "execution_count": 88,
   "metadata": {},
   "outputs": [],
   "source": [
    "retrieved_docs = big_chunks_retriever.get_relevant_documents(query1)"
   ]
  },
  {
   "cell_type": "code",
   "execution_count": 89,
   "metadata": {},
   "outputs": [
    {
     "name": "stdout",
     "output_type": "stream",
     "text": [
      "2\n"
     ]
    }
   ],
   "source": [
    "print(len(retrieved_docs))"
   ]
  },
  {
   "cell_type": "code",
   "execution_count": 91,
   "metadata": {},
   "outputs": [
    {
     "name": "stdout",
     "output_type": "stream",
     "text": [
      "87\n"
     ]
    }
   ],
   "source": [
    "print(len(retrieved_docs[0].page_content))"
   ]
  },
  {
   "cell_type": "code",
   "execution_count": 92,
   "metadata": {},
   "outputs": [
    {
     "name": "stdout",
     "output_type": "stream",
     "text": [
      "95\n"
     ]
    }
   ],
   "source": [
    "print(len(retrieved_docs[1].page_content))"
   ]
  },
  {
   "cell_type": "code",
   "execution_count": null,
   "metadata": {},
   "outputs": [],
   "source": [
    "# from langchain.chains import RetrievalQA\n",
    "# from langchain.llms import OpenAI\n",
    "\n",
    "# qa = RetrievalQA.from_chain_type(llm=OpenAI(),\n",
    "#                                  chain_type=\"stuff\",\n",
    "#                                  retriever=big_chunks_retriever)"
   ]
  },
  {
   "cell_type": "code",
   "execution_count": 94,
   "metadata": {},
   "outputs": [],
   "source": [
    "# query = \"What is Langsmith?\"\n",
    "# qa.run(query)"
   ]
  },
  {
   "cell_type": "code",
   "execution_count": null,
   "metadata": {},
   "outputs": [],
   "source": []
  }
 ],
 "metadata": {
  "kernelspec": {
   "display_name": "langchain",
   "language": "python",
   "name": "python3"
  },
  "language_info": {
   "codemirror_mode": {
    "name": "ipython",
    "version": 3
   },
   "file_extension": ".py",
   "mimetype": "text/x-python",
   "name": "python",
   "nbconvert_exporter": "python",
   "pygments_lexer": "ipython3",
   "version": "3.8.18"
  }
 },
 "nbformat": 4,
 "nbformat_minor": 2
}
